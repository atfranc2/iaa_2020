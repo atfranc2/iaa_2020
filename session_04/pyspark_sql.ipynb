{
  "nbformat": 4,
  "nbformat_minor": 0,
  "metadata": {
    "colab": {
      "name": "pyspark.sql.ipynb",
      "provenance": []
    },
    "kernelspec": {
      "name": "python3",
      "display_name": "Python 3"
    }
  },
  "cells": [
    {
      "cell_type": "markdown",
      "metadata": {
        "id": "5-7vRh7EGS30",
        "colab_type": "text"
      },
      "source": [
        "## **PySpark SQL - Getting Started Notebook**\n",
        "This notebook provides an example for installing spark dependencies and a simple \"getting started\" syntax for PySpark SQL.\n",
        "\n",
        "NOTE: This notebook is designed to be used with Google's Colab notebook and the Python 3 runtime."
      ]
    },
    {
      "cell_type": "markdown",
      "metadata": {
        "id": "aZ24BRz6FMwN",
        "colab_type": "text"
      },
      "source": [
        "## **Install Spark Dependencies**\n",
        "\n"
      ]
    },
    {
      "cell_type": "code",
      "metadata": {
        "id": "upqpisH2IoMy",
        "colab_type": "code",
        "colab": {}
      },
      "source": [
        "# Install Spark dependencies\n",
        "!apt-get install openjdk-8-jdk-headless -qq > /dev/null\n",
        "!rm spark-2.4.5-bin-hadoop2.7.tgz\n",
        "!wget --no-cookies --no-check-certificate https://downloads.apache.org/spark/spark-2.4.5/spark-2.4.5-bin-hadoop2.7.tgz\n",
        "!tar zxvf spark-2.4.5-bin-hadoop2.7.tgz\n",
        "!pip install -q findspark\n",
        "!pip install pyspark"
      ],
      "execution_count": 0,
      "outputs": []
    },
    {
      "cell_type": "code",
      "metadata": {
        "id": "X2xvv-QnsQZs",
        "colab_type": "code",
        "colab": {}
      },
      "source": [
        "!ls -al | grep spark"
      ],
      "execution_count": 0,
      "outputs": []
    },
    {
      "cell_type": "markdown",
      "metadata": {
        "id": "3NgWpb22FchD",
        "colab_type": "text"
      },
      "source": [
        "## **Set env variables within Pyspark**"
      ]
    },
    {
      "cell_type": "code",
      "metadata": {
        "id": "I47MHeUcyH1j",
        "colab_type": "code",
        "colab": {}
      },
      "source": [
        "# Set up required environment variables\n",
        "import os\n",
        "os.environ[\"JAVA_HOME\"]  = \"/usr/lib/jvm/java-8-openjdk-amd64\"\n",
        "os.environ[\"SPARK_HOME\"] = \"/content/spark-2.4.5-bin-hadoop2.7\""
      ],
      "execution_count": 0,
      "outputs": []
    },
    {
      "cell_type": "markdown",
      "metadata": {
        "id": "6wa2iydLFsWW",
        "colab_type": "text"
      },
      "source": [
        "## **Download Data**"
      ]
    },
    {
      "cell_type": "code",
      "metadata": {
        "id": "rYe4U8Jnx39a",
        "colab_type": "code",
        "colab": {}
      },
      "source": [
        "!wget https://raw.githubusercontent.com/zaratsian/iaa_2020/master/data/bikeshare_stations.csv\n",
        "!wget https://raw.githubusercontent.com/zaratsian/iaa_2020/master/data/bikeshare_trips.csv"
      ],
      "execution_count": 0,
      "outputs": []
    },
    {
      "cell_type": "markdown",
      "metadata": {
        "id": "lvMtRJwUFzie",
        "colab_type": "text"
      },
      "source": [
        "## **Import Python and PySpark Libraries**"
      ]
    },
    {
      "cell_type": "code",
      "metadata": {
        "id": "2-SIpC_-aw0t",
        "colab_type": "code",
        "colab": {}
      },
      "source": [
        "import datetime\n",
        "from pyspark import SparkContext\n",
        "from pyspark.sql import SparkSession\n",
        "from pyspark.sql.types import *\n",
        "from pyspark.sql.functions import monotonically_increasing_id, col, expr, when, concat, lit, udf, split\n",
        "from pyspark.ml.linalg import Vectors\n",
        "from pyspark.ml.regression import GBTRegressor, LinearRegression, GeneralizedLinearRegression\n",
        "from pyspark.ml.classification import GBTClassifier\n",
        "from pyspark.ml.feature import VectorIndexer, VectorAssembler, StringIndexer\n",
        "from pyspark.ml.evaluation import RegressionEvaluator\n",
        "from pyspark.ml import Pipeline\n",
        "from pyspark.ml.evaluation import MulticlassClassificationEvaluator"
      ],
      "execution_count": 0,
      "outputs": []
    },
    {
      "cell_type": "markdown",
      "metadata": {
        "id": "XyT917EuF7Pv",
        "colab_type": "text"
      },
      "source": [
        "## **Initialize Spark Session**"
      ]
    },
    {
      "cell_type": "code",
      "metadata": {
        "id": "niAz2S672M_m",
        "colab_type": "code",
        "colab": {}
      },
      "source": [
        "spark = SparkSession.builder.appName(\"Bikesharing SparkSQL\").master(\"local[*]\").getOrCreate()"
      ],
      "execution_count": 0,
      "outputs": []
    },
    {
      "cell_type": "markdown",
      "metadata": {
        "id": "hL4NPf_ZF_OF",
        "colab_type": "text"
      },
      "source": [
        "## **Read CSV into Spark**"
      ]
    },
    {
      "cell_type": "code",
      "metadata": {
        "id": "hC6C3wKwyBbt",
        "colab_type": "code",
        "colab": {}
      },
      "source": [
        "bikeshare_trips = spark.read.load('bikeshare_trips.csv', format=\"csv\", header=True, inferSchema=True)"
      ],
      "execution_count": 0,
      "outputs": []
    },
    {
      "cell_type": "markdown",
      "metadata": {
        "id": "Nqf2c9xOGFDb",
        "colab_type": "text"
      },
      "source": [
        "## **Display first few records**"
      ]
    },
    {
      "cell_type": "code",
      "metadata": {
        "id": "Deym0a0pyNNu",
        "colab_type": "code",
        "outputId": "7a41351d-dc4b-4a86-b461-d68bf87497fa",
        "colab": {
          "base_uri": "https://localhost:8080/",
          "height": 235
        }
      },
      "source": [
        "bikeshare_trips.show(5, truncate=False)"
      ],
      "execution_count": 12,
      "outputs": [
        {
          "output_type": "stream",
          "text": [
            "+----------+----------------------------------+------+-------------------+----------------+---------------------------------------+--------------+-------------------------+----------------+\n",
            "|trip_id   |subscriber_type                   |bikeid|start_time         |start_station_id|start_station_name                     |end_station_id|end_station_name         |duration_minutes|\n",
            "+----------+----------------------------------+------+-------------------+----------------+---------------------------------------+--------------+-------------------------+----------------+\n",
            "|9900285908|Annual Membership (Austin B-cycle)|400   |10/26/2014 14:12:00|2823            |Capital Metro HQ - East 5th at Broadway|2544          |East 6th & Pedernales St.|10              |\n",
            "|9900289692|Walk Up                           |248   |10/2/2015 21:12:01 |1006            |Zilker Park West                       |1008          |Nueces @ 3rd             |39              |\n",
            "|9900285987|24-Hour Kiosk (Austin B-cycle)    |446   |10/26/2014 15:12:00|2712            |Toomey Rd @ South Lamar                |2712          |Toomey Rd @ South Lamar  |31              |\n",
            "|9900285989|24-Hour Kiosk (Austin B-cycle)    |203   |10/26/2014 15:12:00|2712            |Toomey Rd @ South Lamar                |2712          |Toomey Rd @ South Lamar  |31              |\n",
            "|9900285991|24-Hour Kiosk (Austin B-cycle)    |101   |10/26/2014 15:12:00|2712            |Toomey Rd @ South Lamar                |2712          |Toomey Rd @ South Lamar  |30              |\n",
            "+----------+----------------------------------+------+-------------------+----------------+---------------------------------------+--------------+-------------------------+----------------+\n",
            "only showing top 5 rows\n",
            "\n"
          ],
          "name": "stdout"
        }
      ]
    },
    {
      "cell_type": "markdown",
      "metadata": {
        "id": "N_v2cyCFGMn1",
        "colab_type": "text"
      },
      "source": [
        "## **Execute Sample SparkSQL query**"
      ]
    },
    {
      "cell_type": "code",
      "metadata": {
        "id": "TPheTgdLyddA",
        "colab_type": "code",
        "outputId": "3a70c502-8795-4253-af9a-98868c76cb76",
        "colab": {
          "base_uri": "https://localhost:8080/",
          "height": 287
        }
      },
      "source": [
        "bikeshare_trips.createOrReplaceTempView(\"bikeshare_trips\")\n",
        "spark.sql(\"SELECT subscriber_type, count(*) as count FROM bikeshare_trips group by subscriber_type order by count desc\").show(truncate=False)"
      ],
      "execution_count": 14,
      "outputs": [
        {
          "output_type": "stream",
          "text": [
            "+----------------------------------+-----+\n",
            "|subscriber_type                   |count|\n",
            "+----------------------------------+-----+\n",
            "|Walk Up                           |275  |\n",
            "|Local365                          |115  |\n",
            "|Weekender                         |34   |\n",
            "|24-Hour Kiosk (Austin B-cycle)    |19   |\n",
            "|Local30                           |18   |\n",
            "|Annual Membership (Austin B-cycle)|14   |\n",
            "|Annual                            |11   |\n",
            "|Explorer                          |10   |\n",
            "|Founding Member                   |2    |\n",
            "|Founding Member (Austin B-cycle)  |2    |\n",
            "+----------------------------------+-----+\n",
            "\n"
          ],
          "name": "stdout"
        }
      ]
    }
  ]
}