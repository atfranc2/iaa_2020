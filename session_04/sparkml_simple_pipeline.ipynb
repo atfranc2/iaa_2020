{
  "nbformat": 4,
  "nbformat_minor": 0,
  "metadata": {
    "colab": {
      "name": "sparkml_simple_pipeline.ipynb",
      "provenance": []
    },
    "kernelspec": {
      "name": "python3",
      "display_name": "Python 3"
    }
  },
  "cells": [
    {
      "cell_type": "markdown",
      "metadata": {
        "id": "5-7vRh7EGS30",
        "colab_type": "text"
      },
      "source": [
        "## **PySpark Machine Learning**\n",
        "###Pipeline Example ([Docs](https://spark.apache.org/docs/latest/ml-pipeline.html))\n",
        "\n",
        "In machine learning, it's common to run a series of steps for data prep, cleansing, feature engineering, and then ultimately model training (among several other potential steps). \n",
        "\n",
        "Spark ML Pipelines sequences these steps into an ordered array (or DAG). A Pipeline is specified as a sequence of stages, and each stage is either a **Transformer** or an **Estimator**.\n",
        "\n",
        "It's often a best practice to save a model or a pipeline to disk for later use.\n",
        "\n",
        "Below is an example Spark ML Pipeline that shows two Transformers (Tokenizer and HashingTF) and one Estimator (Logistic Regression). "
      ]
    },
    {
      "cell_type": "markdown",
      "metadata": {
        "id": "KcHwihQDCpaf",
        "colab_type": "text"
      },
      "source": [
        "<img src=\"https://spark.apache.org/docs/latest/img/ml-Pipeline.png\">"
      ]
    },
    {
      "cell_type": "markdown",
      "metadata": {
        "id": "aZ24BRz6FMwN",
        "colab_type": "text"
      },
      "source": [
        "## **Install Spark Dependencies**\n",
        "\n"
      ]
    },
    {
      "cell_type": "code",
      "metadata": {
        "id": "upqpisH2IoMy",
        "colab_type": "code",
        "colab": {}
      },
      "source": [
        "# Install Spark dependencies\n",
        "!apt-get install openjdk-8-jdk-headless -qq > /dev/null\n",
        "!rm spark-2.4.5-bin-hadoop2.7.tgz\n",
        "!wget --no-cookies --no-check-certificate https://downloads.apache.org/spark/spark-2.4.5/spark-2.4.5-bin-hadoop2.7.tgz\n",
        "!tar zxvf spark-2.4.5-bin-hadoop2.7.tgz\n",
        "!pip install -q findspark\n",
        "!pip install pyspark"
      ],
      "execution_count": 0,
      "outputs": []
    },
    {
      "cell_type": "code",
      "metadata": {
        "id": "X2xvv-QnsQZs",
        "colab_type": "code",
        "colab": {}
      },
      "source": [
        "!ls -al | grep spark"
      ],
      "execution_count": 0,
      "outputs": []
    },
    {
      "cell_type": "markdown",
      "metadata": {
        "id": "lvMtRJwUFzie",
        "colab_type": "text"
      },
      "source": [
        "## **Import Python and PySpark Libraries**"
      ]
    },
    {
      "cell_type": "code",
      "metadata": {
        "id": "2-SIpC_-aw0t",
        "colab_type": "code",
        "colab": {}
      },
      "source": [
        "# Set up required environment variables\n",
        "import os\n",
        "os.environ[\"JAVA_HOME\"]  = \"/usr/lib/jvm/java-8-openjdk-amd64\"\n",
        "os.environ[\"SPARK_HOME\"] = \"/content/spark-2.4.5-bin-hadoop2.7\"\n",
        "\n",
        "from pyspark import SparkContext\n",
        "from pyspark.sql import SparkSession\n",
        "from pyspark.ml import Pipeline\n",
        "from pyspark.ml.classification import LogisticRegression\n",
        "from pyspark.ml.feature import HashingTF, Tokenizer"
      ],
      "execution_count": 0,
      "outputs": []
    },
    {
      "cell_type": "markdown",
      "metadata": {
        "id": "XyT917EuF7Pv",
        "colab_type": "text"
      },
      "source": [
        "## **Initialize Spark Session**"
      ]
    },
    {
      "cell_type": "code",
      "metadata": {
        "id": "niAz2S672M_m",
        "colab_type": "code",
        "colab": {}
      },
      "source": [
        "spark = SparkSession.builder.appName(\"Spark ML Pipeline Example\").master(\"local[*]\").getOrCreate()"
      ],
      "execution_count": 0,
      "outputs": []
    },
    {
      "cell_type": "markdown",
      "metadata": {
        "id": "hL4NPf_ZF_OF",
        "colab_type": "text"
      },
      "source": [
        "## **Load Sample Data**"
      ]
    },
    {
      "cell_type": "code",
      "metadata": {
        "id": "udgQ-I48MRrV",
        "colab_type": "code",
        "outputId": "3a634560-aafa-4629-d968-b51b445211d6",
        "colab": {
          "base_uri": "https://localhost:8080/",
          "height": 179
        }
      },
      "source": [
        "training = spark.createDataFrame([\n",
        "    (0, \"a b c d e spark\", 1.0),\n",
        "    (1, \"b d\", 0.0),\n",
        "    (2, \"spark f g h\", 1.0),\n",
        "    (3, \"hadoop mapreduce\", 0.0)\n",
        "], [\"id\", \"text\", \"label\"])\n",
        "\n",
        "training.show(10,False)"
      ],
      "execution_count": 27,
      "outputs": [
        {
          "output_type": "stream",
          "text": [
            "+---+----------------+-----+\n",
            "|id |text            |label|\n",
            "+---+----------------+-----+\n",
            "|0  |a b c d e spark |1.0  |\n",
            "|1  |b d             |0.0  |\n",
            "|2  |spark f g h     |1.0  |\n",
            "|3  |hadoop mapreduce|0.0  |\n",
            "+---+----------------+-----+\n",
            "\n"
          ],
          "name": "stdout"
        }
      ]
    },
    {
      "cell_type": "markdown",
      "metadata": {
        "id": "M9qcdXwEMZqY",
        "colab_type": "text"
      },
      "source": [
        "## **Configure Pipeline Objects**\n",
        "Transforms (tokenizer and hashingTF) and Estimators (logistic regression)"
      ]
    },
    {
      "cell_type": "code",
      "metadata": {
        "id": "d4WCZ13oMltr",
        "colab_type": "code",
        "colab": {}
      },
      "source": [
        "tokenizer = Tokenizer(inputCol=\"text\", outputCol=\"words\")\n",
        "hashingTF = HashingTF(inputCol=tokenizer.getOutputCol(), outputCol=\"features\")\n",
        "lr = LogisticRegression(maxIter=10, regParam=0.001)"
      ],
      "execution_count": 0,
      "outputs": []
    },
    {
      "cell_type": "code",
      "metadata": {
        "id": "kT_dTa7LpkdK",
        "colab_type": "code",
        "colab": {
          "base_uri": "https://localhost:8080/",
          "height": 179
        },
        "outputId": "879d7344-ae6a-4d95-f60c-ad26e0620ca4"
      },
      "source": [
        "tokenizer.transform(training).show(5, False)"
      ],
      "execution_count": 28,
      "outputs": [
        {
          "output_type": "stream",
          "text": [
            "+---+----------------+-----+----------------------+\n",
            "|id |text            |label|words                 |\n",
            "+---+----------------+-----+----------------------+\n",
            "|0  |a b c d e spark |1.0  |[a, b, c, d, e, spark]|\n",
            "|1  |b d             |0.0  |[b, d]                |\n",
            "|2  |spark f g h     |1.0  |[spark, f, g, h]      |\n",
            "|3  |hadoop mapreduce|0.0  |[hadoop, mapreduce]   |\n",
            "+---+----------------+-----+----------------------+\n",
            "\n"
          ],
          "name": "stdout"
        }
      ]
    },
    {
      "cell_type": "markdown",
      "metadata": {
        "id": "yLnHzeSgMsIX",
        "colab_type": "text"
      },
      "source": [
        "## **Create Pipeline Object**"
      ]
    },
    {
      "cell_type": "code",
      "metadata": {
        "id": "K4ip4waqMwLd",
        "colab_type": "code",
        "colab": {}
      },
      "source": [
        "pipeline = Pipeline(stages=[tokenizer, hashingTF, lr])"
      ],
      "execution_count": 0,
      "outputs": []
    },
    {
      "cell_type": "markdown",
      "metadata": {
        "id": "AgaJUUnVMy10",
        "colab_type": "text"
      },
      "source": [
        "## **Run Pipeline to transform data and train model**"
      ]
    },
    {
      "cell_type": "code",
      "metadata": {
        "id": "uotehx7bM42W",
        "colab_type": "code",
        "colab": {}
      },
      "source": [
        "model = pipeline.fit(training)"
      ],
      "execution_count": 0,
      "outputs": []
    },
    {
      "cell_type": "code",
      "metadata": {
        "id": "rPWvt6emNzaz",
        "colab_type": "code",
        "colab": {}
      },
      "source": [
        "#dir(model.stages[-1].summary)"
      ],
      "execution_count": 0,
      "outputs": []
    },
    {
      "cell_type": "markdown",
      "metadata": {
        "id": "fYuCIf6tM8ot",
        "colab_type": "text"
      },
      "source": [
        "## **Test Model**"
      ]
    },
    {
      "cell_type": "code",
      "metadata": {
        "id": "hC6C3wKwyBbt",
        "colab_type": "code",
        "outputId": "ddf7a879-8d46-4d37-e3cf-1e6967c2e9a6",
        "colab": {
          "base_uri": "https://localhost:8080/",
          "height": 199
        }
      },
      "source": [
        "test = spark.createDataFrame([\n",
        "    (4, \"spark i j k\"),\n",
        "    (5, \"l m n\"),\n",
        "    (6, \"spark hadoop spark\"),\n",
        "    (7, \"apache hadoop\")\n",
        "], [\"id\", \"text\"])\n",
        "\n",
        "# Make predictions on test documents and print columns of interest.\n",
        "prediction = model.transform(test)\n",
        "prediction.show(10,False)\n",
        "#selected = prediction.select(\"id\", \"text\", \"probability\", \"prediction\")\n",
        "#for row in selected.collect():\n",
        "#    rid, text, prob, prediction = row\n",
        "#    print(\"(%d, %s) --> prob=%s, prediction=%f\" % (rid, text, str(prob), prediction))"
      ],
      "execution_count": 29,
      "outputs": [
        {
          "output_type": "stream",
          "text": [
            "+---+------------------+----------------------+------------------------------------------------------+----------------------------------------+----------------------------------------+----------+\n",
            "|id |text              |words                 |features                                              |rawPrediction                           |probability                             |prediction|\n",
            "+---+------------------+----------------------+------------------------------------------------------+----------------------------------------+----------------------------------------+----------+\n",
            "|4  |spark i j k       |[spark, i, j, k]      |(262144,[20197,24417,227520,234657],[1.0,1.0,1.0,1.0])|[-1.66090332274728,1.66090332274728]    |[0.1596407738787475,0.8403592261212525] |1.0       |\n",
            "|5  |l m n             |[l, m, n]             |(262144,[18910,100743,213302],[1.0,1.0,1.0])          |[1.6421889526564477,-1.6421889526564477]|[0.8378325685476744,0.16216743145232562]|0.0       |\n",
            "|6  |spark hadoop spark|[spark, hadoop, spark]|(262144,[155117,234657],[1.0,2.0])                    |[-2.598014217439329,2.598014217439329]  |[0.06926633132976037,0.9307336686702395]|1.0       |\n",
            "|7  |apache hadoop     |[apache, hadoop]      |(262144,[66695,155117],[1.0,1.0])                     |[4.008170333368127,-4.008170333368127]  |[0.9821575333444218,0.01784246665557808]|0.0       |\n",
            "+---+------------------+----------------------+------------------------------------------------------+----------------------------------------+----------------------------------------+----------+\n",
            "\n"
          ],
          "name": "stdout"
        }
      ]
    }
  ]
}